{
  "nbformat": 4,
  "nbformat_minor": 0,
  "metadata": {
    "kernelspec": {
      "display_name": "Python 3",
      "language": "python",
      "name": "python3"
    },
    "language_info": {
      "codemirror_mode": {
        "name": "ipython",
        "version": 3
      },
      "file_extension": ".py",
      "mimetype": "text/x-python",
      "name": "python",
      "nbconvert_exporter": "python",
      "pygments_lexer": "ipython3",
      "version": "3.8.3"
    },
    "colab": {
      "name": "EE5132 Decision Tree with Experimental data.ipynb",
      "provenance": [],
      "collapsed_sections": []
    }
  },
  "cells": [
    {
      "cell_type": "markdown",
      "metadata": {
        "id": "jr_45rNYHajI"
      },
      "source": [
        "**Import libraries**"
      ]
    },
    {
      "cell_type": "code",
      "metadata": {
        "id": "XhmPRaM7HajW"
      },
      "source": [
        "#Data procsessing and model training\n",
        "import numpy as np\n",
        "import matplotlib.pyplot as plt\n",
        "import pandas as pd\n",
        "from sklearn.model_selection import train_test_split\n",
        "\n",
        "#SVM\n",
        "from sklearn.svm import SVC\n",
        "\n",
        "#Decision tree\n",
        "from sklearn.tree import DecisionTreeClassifier\n",
        "from sklearn import tree"
      ],
      "execution_count": 1,
      "outputs": []
    },
    {
      "cell_type": "markdown",
      "metadata": {
        "id": "kNIPl2JQHajZ"
      },
      "source": [
        "**Mount Google Drive to access and import CSV file**"
      ]
    },
    {
      "cell_type": "code",
      "metadata": {
        "colab": {
          "base_uri": "https://localhost:8080/"
        },
        "id": "wtM_RQSKqh7k",
        "outputId": "08fe4927-20b6-4fb2-cf94-6f43be623a92"
      },
      "source": [
        "from google.colab import drive\n",
        "drive.mount('/content/drive')"
      ],
      "execution_count": 2,
      "outputs": [
        {
          "output_type": "stream",
          "text": [
            "Drive already mounted at /content/drive; to attempt to forcibly remount, call drive.mount(\"/content/drive\", force_remount=True).\n"
          ],
          "name": "stdout"
        }
      ]
    },
    {
      "cell_type": "code",
      "metadata": {
        "id": "_XQvJR6hHajb"
      },
      "source": [
        "df = pd.read_csv(\"/content/drive/MyDrive/Colab Notebooks/CollatedExperimentalDataWithLabels.csv\")"
      ],
      "execution_count": 3,
      "outputs": []
    },
    {
      "cell_type": "markdown",
      "metadata": {
        "id": "OE-KB6oFAT0A"
      },
      "source": [
        "Let's check what this dataset contains!"
      ]
    },
    {
      "cell_type": "code",
      "metadata": {
        "id": "Z8n4r2UbHajc",
        "colab": {
          "base_uri": "https://localhost:8080/",
          "height": 363
        },
        "outputId": "058063a2-491e-41be-b288-4ccf4c074df6"
      },
      "source": [
        "df.head(10) #Show top 10 values from the top"
      ],
      "execution_count": 4,
      "outputs": [
        {
          "output_type": "execute_result",
          "data": {
            "text/html": [
              "<div>\n",
              "<style scoped>\n",
              "    .dataframe tbody tr th:only-of-type {\n",
              "        vertical-align: middle;\n",
              "    }\n",
              "\n",
              "    .dataframe tbody tr th {\n",
              "        vertical-align: top;\n",
              "    }\n",
              "\n",
              "    .dataframe thead th {\n",
              "        text-align: right;\n",
              "    }\n",
              "</style>\n",
              "<table border=\"1\" class=\"dataframe\">\n",
              "  <thead>\n",
              "    <tr style=\"text-align: right;\">\n",
              "      <th></th>\n",
              "      <th>timestamp</th>\n",
              "      <th>temperature</th>\n",
              "      <th>light_intensity</th>\n",
              "      <th>humidity</th>\n",
              "      <th>CO</th>\n",
              "      <th>NO2</th>\n",
              "      <th>C3H8</th>\n",
              "      <th>C4H1O</th>\n",
              "      <th>CH4</th>\n",
              "      <th>H2</th>\n",
              "      <th>C2H5OH</th>\n",
              "      <th>Label</th>\n",
              "    </tr>\n",
              "  </thead>\n",
              "  <tbody>\n",
              "    <tr>\n",
              "      <th>0</th>\n",
              "      <td>31/3/2021 20:30</td>\n",
              "      <td>38.04</td>\n",
              "      <td>44</td>\n",
              "      <td>43.7</td>\n",
              "      <td>45.776</td>\n",
              "      <td>0.138</td>\n",
              "      <td>144253.219</td>\n",
              "      <td>43698.004</td>\n",
              "      <td>3712474.75</td>\n",
              "      <td>26.214</td>\n",
              "      <td>36.033</td>\n",
              "      <td>0</td>\n",
              "    </tr>\n",
              "    <tr>\n",
              "      <th>1</th>\n",
              "      <td>31/3/2021 20:30</td>\n",
              "      <td>38.05</td>\n",
              "      <td>47</td>\n",
              "      <td>44.0</td>\n",
              "      <td>46.467</td>\n",
              "      <td>0.139</td>\n",
              "      <td>144253.219</td>\n",
              "      <td>43698.004</td>\n",
              "      <td>3924157.25</td>\n",
              "      <td>26.617</td>\n",
              "      <td>36.033</td>\n",
              "      <td>0</td>\n",
              "    </tr>\n",
              "    <tr>\n",
              "      <th>2</th>\n",
              "      <td>31/3/2021 20:30</td>\n",
              "      <td>37.34</td>\n",
              "      <td>97</td>\n",
              "      <td>45.3</td>\n",
              "      <td>46.005</td>\n",
              "      <td>0.139</td>\n",
              "      <td>139759.906</td>\n",
              "      <td>42539.531</td>\n",
              "      <td>3852371.50</td>\n",
              "      <td>26.617</td>\n",
              "      <td>36.033</td>\n",
              "      <td>0</td>\n",
              "    </tr>\n",
              "    <tr>\n",
              "      <th>3</th>\n",
              "      <td>31/3/2021 20:30</td>\n",
              "      <td>37.35</td>\n",
              "      <td>98</td>\n",
              "      <td>45.2</td>\n",
              "      <td>46.005</td>\n",
              "      <td>0.140</td>\n",
              "      <td>136850.125</td>\n",
              "      <td>41786.332</td>\n",
              "      <td>3712474.75</td>\n",
              "      <td>26.214</td>\n",
              "      <td>35.562</td>\n",
              "      <td>0</td>\n",
              "    </tr>\n",
              "    <tr>\n",
              "      <th>4</th>\n",
              "      <td>31/3/2021 20:30</td>\n",
              "      <td>37.06</td>\n",
              "      <td>63</td>\n",
              "      <td>45.2</td>\n",
              "      <td>46.467</td>\n",
              "      <td>0.143</td>\n",
              "      <td>135420.266</td>\n",
              "      <td>41047.992</td>\n",
              "      <td>3712474.75</td>\n",
              "      <td>26.214</td>\n",
              "      <td>35.562</td>\n",
              "      <td>0</td>\n",
              "    </tr>\n",
              "    <tr>\n",
              "      <th>5</th>\n",
              "      <td>31/3/2021 20:30</td>\n",
              "      <td>37.05</td>\n",
              "      <td>51</td>\n",
              "      <td>45.2</td>\n",
              "      <td>46.235</td>\n",
              "      <td>0.144</td>\n",
              "      <td>131228.266</td>\n",
              "      <td>40324.195</td>\n",
              "      <td>3852371.50</td>\n",
              "      <td>26.617</td>\n",
              "      <td>36.033</td>\n",
              "      <td>0</td>\n",
              "    </tr>\n",
              "    <tr>\n",
              "      <th>6</th>\n",
              "      <td>31/3/2021 20:30</td>\n",
              "      <td>37.05</td>\n",
              "      <td>50</td>\n",
              "      <td>45.4</td>\n",
              "      <td>46.235</td>\n",
              "      <td>0.145</td>\n",
              "      <td>129862.711</td>\n",
              "      <td>39967.633</td>\n",
              "      <td>3852371.50</td>\n",
              "      <td>26.617</td>\n",
              "      <td>36.033</td>\n",
              "      <td>0</td>\n",
              "    </tr>\n",
              "    <tr>\n",
              "      <th>7</th>\n",
              "      <td>31/3/2021 20:30</td>\n",
              "      <td>37.04</td>\n",
              "      <td>43</td>\n",
              "      <td>45.8</td>\n",
              "      <td>45.547</td>\n",
              "      <td>0.145</td>\n",
              "      <td>125858.625</td>\n",
              "      <td>38918.812</td>\n",
              "      <td>3644322.50</td>\n",
              "      <td>26.015</td>\n",
              "      <td>35.329</td>\n",
              "      <td>0</td>\n",
              "    </tr>\n",
              "    <tr>\n",
              "      <th>8</th>\n",
              "      <td>31/3/2021 20:30</td>\n",
              "      <td>36.79</td>\n",
              "      <td>45</td>\n",
              "      <td>46.2</td>\n",
              "      <td>46.005</td>\n",
              "      <td>0.146</td>\n",
              "      <td>124554.141</td>\n",
              "      <td>38576.035</td>\n",
              "      <td>3781817.50</td>\n",
              "      <td>26.415</td>\n",
              "      <td>35.797</td>\n",
              "      <td>0</td>\n",
              "    </tr>\n",
              "    <tr>\n",
              "      <th>9</th>\n",
              "      <td>31/3/2021 20:30</td>\n",
              "      <td>36.81</td>\n",
              "      <td>62</td>\n",
              "      <td>46.5</td>\n",
              "      <td>46.005</td>\n",
              "      <td>0.147</td>\n",
              "      <td>121989.180</td>\n",
              "      <td>37900.465</td>\n",
              "      <td>3781817.50</td>\n",
              "      <td>26.415</td>\n",
              "      <td>35.797</td>\n",
              "      <td>0</td>\n",
              "    </tr>\n",
              "  </tbody>\n",
              "</table>\n",
              "</div>"
            ],
            "text/plain": [
              "         timestamp  temperature  light_intensity  ...      H2  C2H5OH  Label\n",
              "0  31/3/2021 20:30        38.04               44  ...  26.214  36.033      0\n",
              "1  31/3/2021 20:30        38.05               47  ...  26.617  36.033      0\n",
              "2  31/3/2021 20:30        37.34               97  ...  26.617  36.033      0\n",
              "3  31/3/2021 20:30        37.35               98  ...  26.214  35.562      0\n",
              "4  31/3/2021 20:30        37.06               63  ...  26.214  35.562      0\n",
              "5  31/3/2021 20:30        37.05               51  ...  26.617  36.033      0\n",
              "6  31/3/2021 20:30        37.05               50  ...  26.617  36.033      0\n",
              "7  31/3/2021 20:30        37.04               43  ...  26.015  35.329      0\n",
              "8  31/3/2021 20:30        36.79               45  ...  26.415  35.797      0\n",
              "9  31/3/2021 20:30        36.81               62  ...  26.415  35.797      0\n",
              "\n",
              "[10 rows x 12 columns]"
            ]
          },
          "metadata": {
            "tags": []
          },
          "execution_count": 4
        }
      ]
    },
    {
      "cell_type": "code",
      "metadata": {
        "id": "6Oit1XV-Hajf",
        "colab": {
          "base_uri": "https://localhost:8080/"
        },
        "outputId": "b77110dc-b49c-44b4-9aa8-f0bd52042e44"
      },
      "source": [
        "df.isnull().any() #Check for any null values in dataset"
      ],
      "execution_count": 5,
      "outputs": [
        {
          "output_type": "execute_result",
          "data": {
            "text/plain": [
              "timestamp          False\n",
              "temperature        False\n",
              "light_intensity    False\n",
              "humidity           False\n",
              "CO                 False\n",
              "NO2                False\n",
              "C3H8               False\n",
              "C4H1O              False\n",
              "CH4                False\n",
              "H2                 False\n",
              "C2H5OH             False\n",
              "Label              False\n",
              "dtype: bool"
            ]
          },
          "metadata": {
            "tags": []
          },
          "execution_count": 5
        }
      ]
    },
    {
      "cell_type": "code",
      "metadata": {
        "id": "Emz2I9iaHaji",
        "colab": {
          "base_uri": "https://localhost:8080/"
        },
        "outputId": "75dd49b4-400a-42f2-d77a-305e0d3b721f"
      },
      "source": [
        "df.dtypes #Check the variable types for our variables"
      ],
      "execution_count": 6,
      "outputs": [
        {
          "output_type": "execute_result",
          "data": {
            "text/plain": [
              "timestamp           object\n",
              "temperature        float64\n",
              "light_intensity      int64\n",
              "humidity           float64\n",
              "CO                 float64\n",
              "NO2                float64\n",
              "C3H8               float64\n",
              "C4H1O              float64\n",
              "CH4                float64\n",
              "H2                 float64\n",
              "C2H5OH             float64\n",
              "Label                int64\n",
              "dtype: object"
            ]
          },
          "metadata": {
            "tags": []
          },
          "execution_count": 6
        }
      ]
    },
    {
      "cell_type": "code",
      "metadata": {
        "id": "8XkKYmzWHajj",
        "colab": {
          "base_uri": "https://localhost:8080/",
          "height": 300
        },
        "outputId": "8a556bb6-630b-46a6-a9c2-f4ff7433da7d"
      },
      "source": [
        "df.describe()"
      ],
      "execution_count": 7,
      "outputs": [
        {
          "output_type": "execute_result",
          "data": {
            "text/html": [
              "<div>\n",
              "<style scoped>\n",
              "    .dataframe tbody tr th:only-of-type {\n",
              "        vertical-align: middle;\n",
              "    }\n",
              "\n",
              "    .dataframe tbody tr th {\n",
              "        vertical-align: top;\n",
              "    }\n",
              "\n",
              "    .dataframe thead th {\n",
              "        text-align: right;\n",
              "    }\n",
              "</style>\n",
              "<table border=\"1\" class=\"dataframe\">\n",
              "  <thead>\n",
              "    <tr style=\"text-align: right;\">\n",
              "      <th></th>\n",
              "      <th>temperature</th>\n",
              "      <th>light_intensity</th>\n",
              "      <th>humidity</th>\n",
              "      <th>CO</th>\n",
              "      <th>NO2</th>\n",
              "      <th>C3H8</th>\n",
              "      <th>C4H1O</th>\n",
              "      <th>CH4</th>\n",
              "      <th>H2</th>\n",
              "      <th>C2H5OH</th>\n",
              "      <th>Label</th>\n",
              "    </tr>\n",
              "  </thead>\n",
              "  <tbody>\n",
              "    <tr>\n",
              "      <th>count</th>\n",
              "      <td>369.000000</td>\n",
              "      <td>369.000000</td>\n",
              "      <td>369.000000</td>\n",
              "      <td>369.000000</td>\n",
              "      <td>369.000000</td>\n",
              "      <td>369.000000</td>\n",
              "      <td>369.000000</td>\n",
              "      <td>3.690000e+02</td>\n",
              "      <td>369.000000</td>\n",
              "      <td>369.000000</td>\n",
              "      <td>369.000000</td>\n",
              "    </tr>\n",
              "    <tr>\n",
              "      <th>mean</th>\n",
              "      <td>48.766341</td>\n",
              "      <td>388.474255</td>\n",
              "      <td>40.143631</td>\n",
              "      <td>47.773932</td>\n",
              "      <td>0.182659</td>\n",
              "      <td>92537.276431</td>\n",
              "      <td>29364.269621</td>\n",
              "      <td>6.169387e+06</td>\n",
              "      <td>28.740507</td>\n",
              "      <td>38.102407</td>\n",
              "      <td>1.040650</td>\n",
              "    </tr>\n",
              "    <tr>\n",
              "      <th>std</th>\n",
              "      <td>21.517100</td>\n",
              "      <td>279.203730</td>\n",
              "      <td>14.307814</td>\n",
              "      <td>8.974546</td>\n",
              "      <td>0.047744</td>\n",
              "      <td>58455.436147</td>\n",
              "      <td>15224.136895</td>\n",
              "      <td>1.355844e+07</td>\n",
              "      <td>11.909031</td>\n",
              "      <td>12.497139</td>\n",
              "      <td>0.888315</td>\n",
              "    </tr>\n",
              "    <tr>\n",
              "      <th>min</th>\n",
              "      <td>0.000000</td>\n",
              "      <td>35.000000</td>\n",
              "      <td>0.000000</td>\n",
              "      <td>44.641000</td>\n",
              "      <td>0.091000</td>\n",
              "      <td>30695.604000</td>\n",
              "      <td>11744.473000</td>\n",
              "      <td>6.309570e+02</td>\n",
              "      <td>25.229000</td>\n",
              "      <td>1.622000</td>\n",
              "      <td>0.000000</td>\n",
              "    </tr>\n",
              "    <tr>\n",
              "      <th>25%</th>\n",
              "      <td>34.600000</td>\n",
              "      <td>57.000000</td>\n",
              "      <td>26.800000</td>\n",
              "      <td>45.319000</td>\n",
              "      <td>0.163000</td>\n",
              "      <td>55464.152000</td>\n",
              "      <td>19408.617000</td>\n",
              "      <td>3.577342e+06</td>\n",
              "      <td>25.816000</td>\n",
              "      <td>35.096000</td>\n",
              "      <td>0.000000</td>\n",
              "    </tr>\n",
              "    <tr>\n",
              "      <th>50%</th>\n",
              "      <td>40.550000</td>\n",
              "      <td>551.000000</td>\n",
              "      <td>42.100000</td>\n",
              "      <td>45.547000</td>\n",
              "      <td>0.181000</td>\n",
              "      <td>74036.453000</td>\n",
              "      <td>24802.662000</td>\n",
              "      <td>3.644322e+06</td>\n",
              "      <td>26.015000</td>\n",
              "      <td>35.329000</td>\n",
              "      <td>1.000000</td>\n",
              "    </tr>\n",
              "    <tr>\n",
              "      <th>75%</th>\n",
              "      <td>54.810000</td>\n",
              "      <td>620.000000</td>\n",
              "      <td>51.800000</td>\n",
              "      <td>46.005000</td>\n",
              "      <td>0.203000</td>\n",
              "      <td>104488.180000</td>\n",
              "      <td>33230.734000</td>\n",
              "      <td>3.781818e+06</td>\n",
              "      <td>26.415000</td>\n",
              "      <td>35.797000</td>\n",
              "      <td>2.000000</td>\n",
              "    </tr>\n",
              "    <tr>\n",
              "      <th>max</th>\n",
              "      <td>125.440000</td>\n",
              "      <td>771.000000</td>\n",
              "      <td>82.100000</td>\n",
              "      <td>121.238000</td>\n",
              "      <td>0.593000</td>\n",
              "      <td>332100.219000</td>\n",
              "      <td>88705.984000</td>\n",
              "      <td>1.364693e+08</td>\n",
              "      <td>121.932000</td>\n",
              "      <td>133.842000</td>\n",
              "      <td>2.000000</td>\n",
              "    </tr>\n",
              "  </tbody>\n",
              "</table>\n",
              "</div>"
            ],
            "text/plain": [
              "       temperature  light_intensity  ...      C2H5OH       Label\n",
              "count   369.000000       369.000000  ...  369.000000  369.000000\n",
              "mean     48.766341       388.474255  ...   38.102407    1.040650\n",
              "std      21.517100       279.203730  ...   12.497139    0.888315\n",
              "min       0.000000        35.000000  ...    1.622000    0.000000\n",
              "25%      34.600000        57.000000  ...   35.096000    0.000000\n",
              "50%      40.550000       551.000000  ...   35.329000    1.000000\n",
              "75%      54.810000       620.000000  ...   35.797000    2.000000\n",
              "max     125.440000       771.000000  ...  133.842000    2.000000\n",
              "\n",
              "[8 rows x 11 columns]"
            ]
          },
          "metadata": {
            "tags": []
          },
          "execution_count": 7
        }
      ]
    },
    {
      "cell_type": "code",
      "metadata": {
        "colab": {
          "base_uri": "https://localhost:8080/"
        },
        "id": "ANJF0MefvEQz",
        "outputId": "34edb5b0-b6ea-4824-e9c5-9ad9ec4c3e12"
      },
      "source": [
        "len(df[\"timestamp\"]) #count number of rows in this dataset"
      ],
      "execution_count": 8,
      "outputs": [
        {
          "output_type": "execute_result",
          "data": {
            "text/plain": [
              "369"
            ]
          },
          "metadata": {
            "tags": []
          },
          "execution_count": 8
        }
      ]
    },
    {
      "cell_type": "markdown",
      "metadata": {
        "id": "vI8esLhwHajl"
      },
      "source": [
        "Everything checks out. But temperature and humidity seem to have a minimum value of 0.0 which could be an anomaly with the sensor.\n",
        "Let's plot a histogram and confirm this!\n"
      ]
    },
    {
      "cell_type": "code",
      "metadata": {
        "id": "izQgOPP4Hajm",
        "colab": {
          "base_uri": "https://localhost:8080/",
          "height": 284
        },
        "outputId": "bf62b8b7-c87c-497d-acf4-ad6a97449333"
      },
      "source": [
        "df['temperature'].plot.hist()\n",
        "df['humidity'].plot.hist()"
      ],
      "execution_count": 9,
      "outputs": [
        {
          "output_type": "execute_result",
          "data": {
            "text/plain": [
              "<matplotlib.axes._subplots.AxesSubplot at 0x7f3f69ce0210>"
            ]
          },
          "metadata": {
            "tags": []
          },
          "execution_count": 9
        },
        {
          "output_type": "display_data",
          "data": {
            "image/png": "[encoded data removed]",
            "text/plain": [
              "<Figure size 432x288 with 1 Axes>"
            ]
          },
          "metadata": {
            "tags": [],
            "needs_background": "light"
          }
        }
      ]
    },
    {
      "cell_type": "markdown",
      "metadata": {
        "id": "RithUByQArjS"
      },
      "source": [
        "Looking at the histogram, the temperature and humidity sensors have their distinct ranges but give a sensor reading of 0 at times. These are outliers which we will need to remove."
      ]
    },
    {
      "cell_type": "code",
      "metadata": {
        "colab": {
          "base_uri": "https://localhost:8080/",
          "height": 143
        },
        "id": "XENd6dfLrqW9",
        "outputId": "afa7dd9a-1204-48c0-d603-03bd5dcc18dc"
      },
      "source": [
        "df.loc[df[\"temperature\"] == 0] #check which rows have temperature reading of 0"
      ],
      "execution_count": 10,
      "outputs": [
        {
          "output_type": "execute_result",
          "data": {
            "text/html": [
              "<div>\n",
              "<style scoped>\n",
              "    .dataframe tbody tr th:only-of-type {\n",
              "        vertical-align: middle;\n",
              "    }\n",
              "\n",
              "    .dataframe tbody tr th {\n",
              "        vertical-align: top;\n",
              "    }\n",
              "\n",
              "    .dataframe thead th {\n",
              "        text-align: right;\n",
              "    }\n",
              "</style>\n",
              "<table border=\"1\" class=\"dataframe\">\n",
              "  <thead>\n",
              "    <tr style=\"text-align: right;\">\n",
              "      <th></th>\n",
              "      <th>timestamp</th>\n",
              "      <th>temperature</th>\n",
              "      <th>light_intensity</th>\n",
              "      <th>humidity</th>\n",
              "      <th>CO</th>\n",
              "      <th>NO2</th>\n",
              "      <th>C3H8</th>\n",
              "      <th>C4H1O</th>\n",
              "      <th>CH4</th>\n",
              "      <th>H2</th>\n",
              "      <th>C2H5OH</th>\n",
              "      <th>Label</th>\n",
              "    </tr>\n",
              "  </thead>\n",
              "  <tbody>\n",
              "    <tr>\n",
              "      <th>24</th>\n",
              "      <td>31/3/2021 20:31</td>\n",
              "      <td>0.0</td>\n",
              "      <td>58</td>\n",
              "      <td>0.0</td>\n",
              "      <td>45.776</td>\n",
              "      <td>0.159</td>\n",
              "      <td>98265.867</td>\n",
              "      <td>31542.746</td>\n",
              "      <td>3712474.75</td>\n",
              "      <td>26.214</td>\n",
              "      <td>35.562</td>\n",
              "      <td>0</td>\n",
              "    </tr>\n",
              "    <tr>\n",
              "      <th>135</th>\n",
              "      <td>31/3/2021 20:50</td>\n",
              "      <td>0.0</td>\n",
              "      <td>642</td>\n",
              "      <td>56.7</td>\n",
              "      <td>44.866</td>\n",
              "      <td>0.227</td>\n",
              "      <td>40843.855</td>\n",
              "      <td>14967.979</td>\n",
              "      <td>3446819.25</td>\n",
              "      <td>25.423</td>\n",
              "      <td>34.635</td>\n",
              "      <td>0</td>\n",
              "    </tr>\n",
              "    <tr>\n",
              "      <th>213</th>\n",
              "      <td>31/3/2021 20:44</td>\n",
              "      <td>0.0</td>\n",
              "      <td>44</td>\n",
              "      <td>0.0</td>\n",
              "      <td>45.547</td>\n",
              "      <td>0.198</td>\n",
              "      <td>51243.520</td>\n",
              "      <td>18147.156</td>\n",
              "      <td>3644322.50</td>\n",
              "      <td>26.015</td>\n",
              "      <td>35.329</td>\n",
              "      <td>1</td>\n",
              "    </tr>\n",
              "  </tbody>\n",
              "</table>\n",
              "</div>"
            ],
            "text/plain": [
              "           timestamp  temperature  light_intensity  ...      H2  C2H5OH  Label\n",
              "24   31/3/2021 20:31          0.0               58  ...  26.214  35.562      0\n",
              "135  31/3/2021 20:50          0.0              642  ...  25.423  34.635      0\n",
              "213  31/3/2021 20:44          0.0               44  ...  26.015  35.329      1\n",
              "\n",
              "[3 rows x 12 columns]"
            ]
          },
          "metadata": {
            "tags": []
          },
          "execution_count": 10
        }
      ]
    },
    {
      "cell_type": "code",
      "metadata": {
        "colab": {
          "base_uri": "https://localhost:8080/",
          "height": 112
        },
        "id": "b48SakkCuPtr",
        "outputId": "d1b03828-23b7-4ced-8ee0-b180c52e14c3"
      },
      "source": [
        "df.loc[df[\"humidity\"] == 0] #check which rows have humidity reading of 0"
      ],
      "execution_count": 11,
      "outputs": [
        {
          "output_type": "execute_result",
          "data": {
            "text/html": [
              "<div>\n",
              "<style scoped>\n",
              "    .dataframe tbody tr th:only-of-type {\n",
              "        vertical-align: middle;\n",
              "    }\n",
              "\n",
              "    .dataframe tbody tr th {\n",
              "        vertical-align: top;\n",
              "    }\n",
              "\n",
              "    .dataframe thead th {\n",
              "        text-align: right;\n",
              "    }\n",
              "</style>\n",
              "<table border=\"1\" class=\"dataframe\">\n",
              "  <thead>\n",
              "    <tr style=\"text-align: right;\">\n",
              "      <th></th>\n",
              "      <th>timestamp</th>\n",
              "      <th>temperature</th>\n",
              "      <th>light_intensity</th>\n",
              "      <th>humidity</th>\n",
              "      <th>CO</th>\n",
              "      <th>NO2</th>\n",
              "      <th>C3H8</th>\n",
              "      <th>C4H1O</th>\n",
              "      <th>CH4</th>\n",
              "      <th>H2</th>\n",
              "      <th>C2H5OH</th>\n",
              "      <th>Label</th>\n",
              "    </tr>\n",
              "  </thead>\n",
              "  <tbody>\n",
              "    <tr>\n",
              "      <th>24</th>\n",
              "      <td>31/3/2021 20:31</td>\n",
              "      <td>0.0</td>\n",
              "      <td>58</td>\n",
              "      <td>0.0</td>\n",
              "      <td>45.776</td>\n",
              "      <td>0.159</td>\n",
              "      <td>98265.867</td>\n",
              "      <td>31542.746</td>\n",
              "      <td>3712474.75</td>\n",
              "      <td>26.214</td>\n",
              "      <td>35.562</td>\n",
              "      <td>0</td>\n",
              "    </tr>\n",
              "    <tr>\n",
              "      <th>213</th>\n",
              "      <td>31/3/2021 20:44</td>\n",
              "      <td>0.0</td>\n",
              "      <td>44</td>\n",
              "      <td>0.0</td>\n",
              "      <td>45.547</td>\n",
              "      <td>0.198</td>\n",
              "      <td>51243.520</td>\n",
              "      <td>18147.156</td>\n",
              "      <td>3644322.50</td>\n",
              "      <td>26.015</td>\n",
              "      <td>35.329</td>\n",
              "      <td>1</td>\n",
              "    </tr>\n",
              "  </tbody>\n",
              "</table>\n",
              "</div>"
            ],
            "text/plain": [
              "           timestamp  temperature  light_intensity  ...      H2  C2H5OH  Label\n",
              "24   31/3/2021 20:31          0.0               58  ...  26.214  35.562      0\n",
              "213  31/3/2021 20:44          0.0               44  ...  26.015  35.329      1\n",
              "\n",
              "[2 rows x 12 columns]"
            ]
          },
          "metadata": {
            "tags": []
          },
          "execution_count": 11
        }
      ]
    },
    {
      "cell_type": "code",
      "metadata": {
        "id": "HqV2D9imvrSr"
      },
      "source": [
        "#drop rows for sensors with temperature and humidity anomalies\n",
        "df = df.drop(index=[24,135,213])"
      ],
      "execution_count": 12,
      "outputs": []
    },
    {
      "cell_type": "code",
      "metadata": {
        "colab": {
          "base_uri": "https://localhost:8080/"
        },
        "id": "EpfCrfSuyQUK",
        "outputId": "e93c076f-7034-4691-91d3-f79ba7a04c8a"
      },
      "source": [
        "len(df[\"timestamp\"]) #check number of rows in this dataset again after dropping rows, should say 366 since 3 rows were dropped"
      ],
      "execution_count": 13,
      "outputs": [
        {
          "output_type": "execute_result",
          "data": {
            "text/plain": [
              "366"
            ]
          },
          "metadata": {
            "tags": []
          },
          "execution_count": 13
        }
      ]
    },
    {
      "cell_type": "code",
      "metadata": {
        "id": "pNo0vqK_Hajq",
        "colab": {
          "base_uri": "https://localhost:8080/",
          "height": 424
        },
        "outputId": "d878d6c4-ee66-43ba-8bab-456cdfad1bd8"
      },
      "source": [
        "X = df.iloc[:, 1:4] #Features to be used are only temperature, light intensity and humidity\n",
        "X"
      ],
      "execution_count": 24,
      "outputs": [
        {
          "output_type": "execute_result",
          "data": {
            "text/html": [
              "<div>\n",
              "<style scoped>\n",
              "    .dataframe tbody tr th:only-of-type {\n",
              "        vertical-align: middle;\n",
              "    }\n",
              "\n",
              "    .dataframe tbody tr th {\n",
              "        vertical-align: top;\n",
              "    }\n",
              "\n",
              "    .dataframe thead th {\n",
              "        text-align: right;\n",
              "    }\n",
              "</style>\n",
              "<table border=\"1\" class=\"dataframe\">\n",
              "  <thead>\n",
              "    <tr style=\"text-align: right;\">\n",
              "      <th></th>\n",
              "      <th>temperature</th>\n",
              "      <th>light_intensity</th>\n",
              "      <th>humidity</th>\n",
              "    </tr>\n",
              "  </thead>\n",
              "  <tbody>\n",
              "    <tr>\n",
              "      <th>0</th>\n",
              "      <td>38.04</td>\n",
              "      <td>44</td>\n",
              "      <td>43.7</td>\n",
              "    </tr>\n",
              "    <tr>\n",
              "      <th>1</th>\n",
              "      <td>38.05</td>\n",
              "      <td>47</td>\n",
              "      <td>44.0</td>\n",
              "    </tr>\n",
              "    <tr>\n",
              "      <th>2</th>\n",
              "      <td>37.34</td>\n",
              "      <td>97</td>\n",
              "      <td>45.3</td>\n",
              "    </tr>\n",
              "    <tr>\n",
              "      <th>3</th>\n",
              "      <td>37.35</td>\n",
              "      <td>98</td>\n",
              "      <td>45.2</td>\n",
              "    </tr>\n",
              "    <tr>\n",
              "      <th>4</th>\n",
              "      <td>37.06</td>\n",
              "      <td>63</td>\n",
              "      <td>45.2</td>\n",
              "    </tr>\n",
              "    <tr>\n",
              "      <th>...</th>\n",
              "      <td>...</td>\n",
              "      <td>...</td>\n",
              "      <td>...</td>\n",
              "    </tr>\n",
              "    <tr>\n",
              "      <th>364</th>\n",
              "      <td>40.89</td>\n",
              "      <td>654</td>\n",
              "      <td>34.6</td>\n",
              "    </tr>\n",
              "    <tr>\n",
              "      <th>365</th>\n",
              "      <td>40.61</td>\n",
              "      <td>621</td>\n",
              "      <td>34.8</td>\n",
              "    </tr>\n",
              "    <tr>\n",
              "      <th>366</th>\n",
              "      <td>40.36</td>\n",
              "      <td>622</td>\n",
              "      <td>35.4</td>\n",
              "    </tr>\n",
              "    <tr>\n",
              "      <th>367</th>\n",
              "      <td>40.11</td>\n",
              "      <td>621</td>\n",
              "      <td>35.7</td>\n",
              "    </tr>\n",
              "    <tr>\n",
              "      <th>368</th>\n",
              "      <td>39.86</td>\n",
              "      <td>621</td>\n",
              "      <td>36.1</td>\n",
              "    </tr>\n",
              "  </tbody>\n",
              "</table>\n",
              "<p>366 rows × 3 columns</p>\n",
              "</div>"
            ],
            "text/plain": [
              "     temperature  light_intensity  humidity\n",
              "0          38.04               44      43.7\n",
              "1          38.05               47      44.0\n",
              "2          37.34               97      45.3\n",
              "3          37.35               98      45.2\n",
              "4          37.06               63      45.2\n",
              "..           ...              ...       ...\n",
              "364        40.89              654      34.6\n",
              "365        40.61              621      34.8\n",
              "366        40.36              622      35.4\n",
              "367        40.11              621      35.7\n",
              "368        39.86              621      36.1\n",
              "\n",
              "[366 rows x 3 columns]"
            ]
          },
          "metadata": {
            "tags": []
          },
          "execution_count": 24
        }
      ]
    },
    {
      "cell_type": "code",
      "metadata": {
        "id": "-_WkvaI_Hajr",
        "colab": {
          "base_uri": "https://localhost:8080/",
          "height": 424
        },
        "outputId": "05f7c299-df7c-4aa8-c0f9-753c4ff6b769"
      },
      "source": [
        "Y = df.iloc[:, 11:] #Labels\n",
        "Y"
      ],
      "execution_count": 19,
      "outputs": [
        {
          "output_type": "execute_result",
          "data": {
            "text/html": [
              "<div>\n",
              "<style scoped>\n",
              "    .dataframe tbody tr th:only-of-type {\n",
              "        vertical-align: middle;\n",
              "    }\n",
              "\n",
              "    .dataframe tbody tr th {\n",
              "        vertical-align: top;\n",
              "    }\n",
              "\n",
              "    .dataframe thead th {\n",
              "        text-align: right;\n",
              "    }\n",
              "</style>\n",
              "<table border=\"1\" class=\"dataframe\">\n",
              "  <thead>\n",
              "    <tr style=\"text-align: right;\">\n",
              "      <th></th>\n",
              "      <th>Label</th>\n",
              "    </tr>\n",
              "  </thead>\n",
              "  <tbody>\n",
              "    <tr>\n",
              "      <th>0</th>\n",
              "      <td>0</td>\n",
              "    </tr>\n",
              "    <tr>\n",
              "      <th>1</th>\n",
              "      <td>0</td>\n",
              "    </tr>\n",
              "    <tr>\n",
              "      <th>2</th>\n",
              "      <td>0</td>\n",
              "    </tr>\n",
              "    <tr>\n",
              "      <th>3</th>\n",
              "      <td>0</td>\n",
              "    </tr>\n",
              "    <tr>\n",
              "      <th>4</th>\n",
              "      <td>0</td>\n",
              "    </tr>\n",
              "    <tr>\n",
              "      <th>...</th>\n",
              "      <td>...</td>\n",
              "    </tr>\n",
              "    <tr>\n",
              "      <th>364</th>\n",
              "      <td>2</td>\n",
              "    </tr>\n",
              "    <tr>\n",
              "      <th>365</th>\n",
              "      <td>2</td>\n",
              "    </tr>\n",
              "    <tr>\n",
              "      <th>366</th>\n",
              "      <td>2</td>\n",
              "    </tr>\n",
              "    <tr>\n",
              "      <th>367</th>\n",
              "      <td>2</td>\n",
              "    </tr>\n",
              "    <tr>\n",
              "      <th>368</th>\n",
              "      <td>2</td>\n",
              "    </tr>\n",
              "  </tbody>\n",
              "</table>\n",
              "<p>366 rows × 1 columns</p>\n",
              "</div>"
            ],
            "text/plain": [
              "     Label\n",
              "0        0\n",
              "1        0\n",
              "2        0\n",
              "3        0\n",
              "4        0\n",
              "..     ...\n",
              "364      2\n",
              "365      2\n",
              "366      2\n",
              "367      2\n",
              "368      2\n",
              "\n",
              "[366 rows x 1 columns]"
            ]
          },
          "metadata": {
            "tags": []
          },
          "execution_count": 19
        }
      ]
    },
    {
      "cell_type": "markdown",
      "metadata": {
        "id": "1Vu1ERqlHajs"
      },
      "source": [
        "Separated the features and labels from the dataframe. Now we can split the training and test sets."
      ]
    },
    {
      "cell_type": "code",
      "metadata": {
        "id": "RvPSrr2IHajt"
      },
      "source": [
        "X_train, X_test, Y_train, Y_test = train_test_split(X, Y, train_size = 0.7)"
      ],
      "execution_count": 25,
      "outputs": []
    },
    {
      "cell_type": "code",
      "metadata": {
        "id": "V8GIzoHTHaju",
        "colab": {
          "base_uri": "https://localhost:8080/"
        },
        "outputId": "c304ed63-79fa-4c12-cb47-0af722a074f2"
      },
      "source": [
        "clf = SVC(C=1e4, kernel='rbf', random_state=100, gamma='scale',probability=True)\n",
        "clf.fit(X_train, Y_train)\n",
        "clf.score(X_test, Y_test)"
      ],
      "execution_count": 80,
      "outputs": [
        {
          "output_type": "stream",
          "text": [
            "/usr/local/lib/python3.7/dist-packages/sklearn/utils/validation.py:760: DataConversionWarning: A column-vector y was passed when a 1d array was expected. Please change the shape of y to (n_samples, ), for example using ravel().\n",
            "  y = column_or_1d(y, warn=True)\n"
          ],
          "name": "stderr"
        },
        {
          "output_type": "execute_result",
          "data": {
            "text/plain": [
              "0.9363636363636364"
            ]
          },
          "metadata": {
            "tags": []
          },
          "execution_count": 80
        }
      ]
    },
    {
      "cell_type": "code",
      "metadata": {
        "id": "tBSvOMNwHajw",
        "colab": {
          "base_uri": "https://localhost:8080/"
        },
        "outputId": "7e75902a-d854-47cb-e322-784466c4013d"
      },
      "source": [
        "clf2 = DecisionTreeClassifier()\n",
        "clf2.fit(X_train, Y_train)\n",
        "clf2.score(X_train, Y_train)"
      ],
      "execution_count": 26,
      "outputs": [
        {
          "output_type": "execute_result",
          "data": {
            "text/plain": [
              "1.0"
            ]
          },
          "metadata": {
            "tags": []
          },
          "execution_count": 26
        }
      ]
    },
    {
      "cell_type": "code",
      "metadata": {
        "id": "End1sI9fHajx",
        "colab": {
          "base_uri": "https://localhost:8080/",
          "height": 655
        },
        "outputId": "b40f91bf-2f09-42da-aa6c-b213660e6c9c"
      },
      "source": [
        "tree.plot_tree(clf2)"
      ],
      "execution_count": 27,
      "outputs": [
        {
          "output_type": "execute_result",
          "data": {
            "text/plain": [
              "[Text(189.72, 201.90857142857143, 'X[0] <= 36.795\\ngini = 0.646\\nsamples = 256\\nvalue = [86, 59, 111]'),\n",
              " Text(89.28, 170.84571428571428, 'X[2] <= 44.85\\ngini = 0.089\\nsamples = 87\\nvalue = [83, 2, 2]'),\n",
              " Text(44.64, 139.78285714285715, 'X[1] <= 407.0\\ngini = 0.444\\nsamples = 3\\nvalue = [1, 2, 0]'),\n",
              " Text(22.32, 108.72, 'gini = 0.0\\nsamples = 2\\nvalue = [0, 2, 0]'),\n",
              " Text(66.96000000000001, 108.72, 'gini = 0.0\\nsamples = 1\\nvalue = [1, 0, 0]'),\n",
              " Text(133.92000000000002, 139.78285714285715, 'X[2] <= 54.1\\ngini = 0.046\\nsamples = 84\\nvalue = [82, 0, 2]'),\n",
              " Text(111.6, 108.72, 'gini = 0.0\\nsamples = 65\\nvalue = [65, 0, 0]'),\n",
              " Text(156.24, 108.72, 'X[0] <= 33.335\\ngini = 0.188\\nsamples = 19\\nvalue = [17, 0, 2]'),\n",
              " Text(133.92000000000002, 77.65714285714284, 'gini = 0.0\\nsamples = 17\\nvalue = [17, 0, 0]'),\n",
              " Text(178.56, 77.65714285714284, 'gini = 0.0\\nsamples = 2\\nvalue = [0, 0, 2]'),\n",
              " Text(290.16, 170.84571428571428, 'X[1] <= 109.5\\ngini = 0.47\\nsamples = 169\\nvalue = [3, 57, 109]'),\n",
              " Text(267.84000000000003, 139.78285714285715, 'X[1] <= 80.0\\ngini = 0.095\\nsamples = 60\\nvalue = [3, 57, 0]'),\n",
              " Text(245.52, 108.72, 'X[2] <= 45.3\\ngini = 0.065\\nsamples = 59\\nvalue = [2, 57, 0]'),\n",
              " Text(223.2, 77.65714285714284, 'X[2] <= 43.9\\ngini = 0.034\\nsamples = 58\\nvalue = [1, 57, 0]'),\n",
              " Text(200.88, 46.59428571428572, 'gini = 0.0\\nsamples = 51\\nvalue = [0, 51, 0]'),\n",
              " Text(245.52, 46.59428571428572, 'X[2] <= 44.05\\ngini = 0.245\\nsamples = 7\\nvalue = [1, 6, 0]'),\n",
              " Text(223.2, 15.531428571428563, 'gini = 0.0\\nsamples = 1\\nvalue = [1, 0, 0]'),\n",
              " Text(267.84000000000003, 15.531428571428563, 'gini = 0.0\\nsamples = 6\\nvalue = [0, 6, 0]'),\n",
              " Text(267.84000000000003, 77.65714285714284, 'gini = 0.0\\nsamples = 1\\nvalue = [1, 0, 0]'),\n",
              " Text(290.16, 108.72, 'gini = 0.0\\nsamples = 1\\nvalue = [1, 0, 0]'),\n",
              " Text(312.48, 139.78285714285715, 'gini = 0.0\\nsamples = 109\\nvalue = [0, 0, 109]')]"
            ]
          },
          "metadata": {
            "tags": []
          },
          "execution_count": 27
        },
        {
          "output_type": "display_data",
          "data": {
            "image/png": "[encoded data removed]",
            "text/plain": [
              "<Figure size 432x288 with 1 Axes>"
            ]
          },
          "metadata": {
            "tags": [],
            "needs_background": "light"
          }
        }
      ]
    },
    {
      "cell_type": "code",
      "metadata": {
        "id": "Nl3QA8UfHajy"
      },
      "source": [
        "Example = [[36, 30, 50.0]] #Normal but server drawer not pulled out\n",
        "Example1 = [[36, 600, 50.0]] #Normal but drawer pulled out\n",
        "Example2 = [[70, 30, 45.0]] #Overheat since higher temps than example 1 but light remains the same\n",
        "Example3 = [[90, 600, 22.0]] #Fire since temps and light are high, humidity drops due to dryer air"
      ],
      "execution_count": 78,
      "outputs": []
    },
    {
      "cell_type": "code",
      "metadata": {
        "id": "XVZjLqWmHajy"
      },
      "source": [
        "def Classifier_DecisionTree (Data):\n",
        "    Label = clf2.predict(Data)\n",
        "    Label = Label[0] #Used this to get the int value from the 1D list\n",
        "    Dict = {0: 'Normal', 1: 'Overheat', 2: 'Fire'}\n",
        "    Class = Dict.get(Label)\n",
        "    print(Label, Class)"
      ],
      "execution_count": 35,
      "outputs": []
    },
    {
      "cell_type": "code",
      "metadata": {
        "id": "wgYfWP_pHajz",
        "colab": {
          "base_uri": "https://localhost:8080/"
        },
        "outputId": "17c0af9f-fdcd-4115-df61-388841676928"
      },
      "source": [
        "Classifier_DecisionTreeExample)\n",
        "Classifier_DecisionTreeExample1)\n",
        "Classifier_DecisionTree(Example2)\n",
        "Classifier_DecisionTree(Example3)"
      ],
      "execution_count": 79,
      "outputs": [
        {
          "output_type": "stream",
          "text": [
            "0 Normal\n",
            "0 Normal\n",
            "1 Overheat\n",
            "2 Fire\n"
          ],
          "name": "stdout"
        }
      ]
    },
    {
      "cell_type": "code",
      "metadata": {
        "colab": {
          "base_uri": "https://localhost:8080/"
        },
        "id": "UH-o9X6x-9I0",
        "outputId": "498e278b-ddae-41c0-d54a-6a85933ca2b5"
      },
      "source": [
        "def Classifier_SVM (Data):\n",
        "    Label = clf.predict(Data)\n",
        "    Label = Label[0] #Used this to get the int value from the 1D list\n",
        "    Dict = {0: 'Normal', 1: 'Overheat', 2: 'Fire'}\n",
        "    Class = Dict.get(Label)\n",
        "    print(Label, Class)\n",
        "\n",
        "Classifier_SVM(Example)\n",
        "Classifier_SVM(Example1)\n",
        "Classifier_SVM(Example2)\n",
        "Classifier_SVM(Example3)"
      ],
      "execution_count": 81,
      "outputs": [
        {
          "output_type": "stream",
          "text": [
            "0 Normal\n",
            "2 Fire\n",
            "1 Overheat\n",
            "2 Fire\n"
          ],
          "name": "stdout"
        }
      ]
    },
    {
      "cell_type": "code",
      "metadata": {
        "id": "8F_xwCQr_egz"
      },
      "source": [
        ""
      ],
      "execution_count": null,
      "outputs": []
    }
  ]
}